{
  "nbformat": 4,
  "nbformat_minor": 0,
  "metadata": {
    "colab": {
      "name": "Download Youtube Video.ipynb",
      "provenance": [],
      "collapsed_sections": [],
      "authorship_tag": "ABX9TyPDdRAsFQ5jG4ao1dM85Sv5",
      "include_colab_link": true
    },
    "kernelspec": {
      "name": "python3",
      "display_name": "Python 3"
    },
    "widgets": {
      "application/vnd.jupyter.widget-state+json": {
        "76483e9bae5744a2a8447228e6ddf548": {
          "model_module": "@jupyter-widgets/controls",
          "model_name": "TextModel",
          "state": {
            "_view_name": "TextView",
            "style": "IPY_MODEL_c8d45a163f9d45889424f6b1789c3cb8",
            "_dom_classes": [],
            "description": "",
            "_model_name": "TextModel",
            "placeholder": "URL de Youtube",
            "_view_module": "@jupyter-widgets/controls",
            "_model_module_version": "1.5.0",
            "value": "",
            "_view_count": null,
            "disabled": false,
            "_view_module_version": "1.5.0",
            "continuous_update": true,
            "description_tooltip": null,
            "_model_module": "@jupyter-widgets/controls",
            "layout": "IPY_MODEL_a617f5fcef6f459dab91e373f075a4b9"
          }
        },
        "c8d45a163f9d45889424f6b1789c3cb8": {
          "model_module": "@jupyter-widgets/controls",
          "model_name": "DescriptionStyleModel",
          "state": {
            "_view_name": "StyleView",
            "_model_name": "DescriptionStyleModel",
            "description_width": "",
            "_view_module": "@jupyter-widgets/base",
            "_model_module_version": "1.5.0",
            "_view_count": null,
            "_view_module_version": "1.2.0",
            "_model_module": "@jupyter-widgets/controls"
          }
        },
        "a617f5fcef6f459dab91e373f075a4b9": {
          "model_module": "@jupyter-widgets/base",
          "model_name": "LayoutModel",
          "state": {
            "_view_name": "LayoutView",
            "grid_template_rows": null,
            "right": null,
            "justify_content": null,
            "_view_module": "@jupyter-widgets/base",
            "overflow": null,
            "_model_module_version": "1.2.0",
            "_view_count": null,
            "flex_flow": null,
            "width": null,
            "min_width": null,
            "border": null,
            "align_items": null,
            "bottom": null,
            "_model_module": "@jupyter-widgets/base",
            "top": null,
            "grid_column": null,
            "overflow_y": null,
            "overflow_x": null,
            "grid_auto_flow": null,
            "grid_area": null,
            "grid_template_columns": null,
            "flex": null,
            "_model_name": "LayoutModel",
            "justify_items": null,
            "grid_row": null,
            "max_height": null,
            "align_content": null,
            "visibility": null,
            "align_self": null,
            "height": null,
            "min_height": null,
            "padding": null,
            "grid_auto_rows": null,
            "grid_gap": null,
            "max_width": null,
            "order": null,
            "_view_module_version": "1.2.0",
            "grid_template_areas": null,
            "object_position": null,
            "object_fit": null,
            "grid_auto_columns": null,
            "margin": null,
            "display": null,
            "left": null
          }
        },
        "74dec5c334f64063a4ef1fe463d6c7a2": {
          "model_module": "@jupyter-widgets/controls",
          "model_name": "ButtonModel",
          "state": {
            "_view_name": "ButtonView",
            "style": "IPY_MODEL_5342cb011c6f4af2a0da6a9a0522bb03",
            "_dom_classes": [],
            "description": "Search",
            "_model_name": "ButtonModel",
            "button_style": "",
            "_view_module": "@jupyter-widgets/controls",
            "_model_module_version": "1.5.0",
            "tooltip": "",
            "_view_count": null,
            "disabled": false,
            "_view_module_version": "1.5.0",
            "layout": "IPY_MODEL_a0cceae67d7b4d1fab662b615a452048",
            "_model_module": "@jupyter-widgets/controls",
            "icon": ""
          }
        },
        "5342cb011c6f4af2a0da6a9a0522bb03": {
          "model_module": "@jupyter-widgets/controls",
          "model_name": "ButtonStyleModel",
          "state": {
            "_view_name": "StyleView",
            "_model_name": "ButtonStyleModel",
            "_view_module": "@jupyter-widgets/base",
            "_model_module_version": "1.5.0",
            "_view_count": null,
            "button_color": null,
            "font_weight": "",
            "_view_module_version": "1.2.0",
            "_model_module": "@jupyter-widgets/controls"
          }
        },
        "a0cceae67d7b4d1fab662b615a452048": {
          "model_module": "@jupyter-widgets/base",
          "model_name": "LayoutModel",
          "state": {
            "_view_name": "LayoutView",
            "grid_template_rows": null,
            "right": null,
            "justify_content": null,
            "_view_module": "@jupyter-widgets/base",
            "overflow": null,
            "_model_module_version": "1.2.0",
            "_view_count": null,
            "flex_flow": null,
            "width": null,
            "min_width": null,
            "border": null,
            "align_items": null,
            "bottom": null,
            "_model_module": "@jupyter-widgets/base",
            "top": null,
            "grid_column": null,
            "overflow_y": null,
            "overflow_x": null,
            "grid_auto_flow": null,
            "grid_area": null,
            "grid_template_columns": null,
            "flex": null,
            "_model_name": "LayoutModel",
            "justify_items": null,
            "grid_row": null,
            "max_height": null,
            "align_content": null,
            "visibility": null,
            "align_self": null,
            "height": null,
            "min_height": null,
            "padding": null,
            "grid_auto_rows": null,
            "grid_gap": null,
            "max_width": null,
            "order": null,
            "_view_module_version": "1.2.0",
            "grid_template_areas": null,
            "object_position": null,
            "object_fit": null,
            "grid_auto_columns": null,
            "margin": null,
            "display": null,
            "left": null
          }
        },
        "6e69275b7ef243b4b7590715a335b513": {
          "model_module": "@jupyter-widgets/output",
          "model_name": "OutputModel",
          "state": {
            "_view_name": "OutputView",
            "msg_id": "",
            "_dom_classes": [],
            "_model_name": "OutputModel",
            "outputs": [],
            "_view_module": "@jupyter-widgets/output",
            "_model_module_version": "1.0.0",
            "_view_count": null,
            "_view_module_version": "1.0.0",
            "layout": "IPY_MODEL_b23de42f6d1c4dcf84991cb4d190171f",
            "_model_module": "@jupyter-widgets/output"
          }
        },
        "b23de42f6d1c4dcf84991cb4d190171f": {
          "model_module": "@jupyter-widgets/base",
          "model_name": "LayoutModel",
          "state": {
            "_view_name": "LayoutView",
            "grid_template_rows": null,
            "right": null,
            "justify_content": null,
            "_view_module": "@jupyter-widgets/base",
            "overflow": null,
            "_model_module_version": "1.2.0",
            "_view_count": null,
            "flex_flow": null,
            "width": null,
            "min_width": null,
            "border": null,
            "align_items": null,
            "bottom": null,
            "_model_module": "@jupyter-widgets/base",
            "top": null,
            "grid_column": null,
            "overflow_y": null,
            "overflow_x": null,
            "grid_auto_flow": null,
            "grid_area": null,
            "grid_template_columns": null,
            "flex": null,
            "_model_name": "LayoutModel",
            "justify_items": null,
            "grid_row": null,
            "max_height": null,
            "align_content": null,
            "visibility": null,
            "align_self": null,
            "height": null,
            "min_height": null,
            "padding": null,
            "grid_auto_rows": null,
            "grid_gap": null,
            "max_width": null,
            "order": null,
            "_view_module_version": "1.2.0",
            "grid_template_areas": null,
            "object_position": null,
            "object_fit": null,
            "grid_auto_columns": null,
            "margin": null,
            "display": null,
            "left": null
          }
        }
      }
    }
  },
  "cells": [
    {
      "cell_type": "markdown",
      "metadata": {
        "id": "view-in-github",
        "colab_type": "text"
      },
      "source": [
        "<a href=\"https://colab.research.google.com/github/eanappi/download-youtube-video/blob/main/Download_Youtube_Video.ipynb\" target=\"_parent\"><img src=\"https://colab.research.google.com/assets/colab-badge.svg\" alt=\"Open In Colab\"/></a>"
      ]
    },
    {
      "cell_type": "markdown",
      "metadata": {
        "id": "QicAq0nMvTvj"
      },
      "source": [
        "## Instalación de package"
      ]
    },
    {
      "cell_type": "code",
      "metadata": {
        "id": "uHJb-QuVAU9D",
        "outputId": "9989ef70-691c-4f16-aaa2-d4be1469ad07",
        "colab": {
          "base_uri": "https://localhost:8080/",
          "height": 73
        }
      },
      "source": [
        "!pip install pytube3 --upgrade"
      ],
      "execution_count": 6,
      "outputs": [
        {
          "output_type": "stream",
          "text": [
            "Requirement already up-to-date: pytube3 in /usr/local/lib/python3.6/dist-packages (9.6.4)\n",
            "Requirement already satisfied, skipping upgrade: typing-extensions in /usr/local/lib/python3.6/dist-packages (from pytube3) (3.7.4.3)\n"
          ],
          "name": "stdout"
        }
      ]
    },
    {
      "cell_type": "markdown",
      "metadata": {
        "id": "PnjFL3MoAuyf"
      },
      "source": [
        "## Importación de la librería"
      ]
    },
    {
      "cell_type": "code",
      "metadata": {
        "id": "CvI1-dz3a2wO"
      },
      "source": [
        "import ipywidgets as widgets\n",
        "from IPython.display import display\n",
        "from pytube import YouTube"
      ],
      "execution_count": 7,
      "outputs": []
    },
    {
      "cell_type": "markdown",
      "metadata": {
        "id": "TLlkEMrCzyII"
      },
      "source": [
        "## Función que obtiene los valores de los videos"
      ]
    },
    {
      "cell_type": "code",
      "metadata": {
        "id": "hCy0qWTK1enz"
      },
      "source": [
        "def download_video(downloadvideo_widgetobject):\n",
        "    video = yt.streams.get_by_itag(str(w_resolutionlist.value))\n",
        "    video.download()\n",
        "\n",
        "def show_resolutionlist(res_list):\n",
        "    global w_resolutionlist\n",
        "\n",
        "    w_resolutionlist = widgets.Dropdown(\n",
        "        options=res_list,\n",
        "        description='Resolution - '\n",
        "        )\n",
        "    w_downloadbutton = widgets.Button(description='Download')\n",
        "    \n",
        "    display(w_resolutionlist, w_downloadbutton)\n",
        "\n",
        "    w_downloadbutton.on_click(download_video)\n",
        "\n",
        "def get_streams(streams_widgetobject):\n",
        "    with w_output:\n",
        "        global yt\n",
        "\n",
        "        yt = YouTube(w_input.value)\n",
        "        streams = yt.streams.filter(\n",
        "            progressive=True,\n",
        "            subtype='mp4'\n",
        "            ).order_by('resolution').desc()\n",
        "        streams_util = []\n",
        "\n",
        "        for stream in streams:\n",
        "            stream_partial = (str(stream.resolution), stream.itag)\n",
        "            streams_util.append(stream_partial)\n",
        "        \n",
        "        show_resolutionlist(streams_util)\n"
      ],
      "execution_count": 8,
      "outputs": []
    },
    {
      "cell_type": "markdown",
      "metadata": {
        "id": "cRvpaARGt-tU"
      },
      "source": [
        "## Declaración de Widgets"
      ]
    },
    {
      "cell_type": "code",
      "metadata": {
        "id": "XkUGh9UeuKvU"
      },
      "source": [
        "w_button = widgets.Button(description='Search')\n",
        "w_input = widgets.Text(placeholder='URL de Youtube')\n",
        "w_output = widgets.Output()"
      ],
      "execution_count": 9,
      "outputs": []
    },
    {
      "cell_type": "markdown",
      "metadata": {
        "id": "zmCC8LnH2atZ"
      },
      "source": [
        "## Acciones y Mostrar Widgets"
      ]
    },
    {
      "cell_type": "code",
      "metadata": {
        "id": "g5j0nUP526yZ",
        "outputId": "8c5ccd76-1e22-41f1-98aa-c85caa8711fd",
        "colab": {
          "base_uri": "https://localhost:8080/",
          "height": 81,
          "referenced_widgets": [
            "76483e9bae5744a2a8447228e6ddf548",
            "c8d45a163f9d45889424f6b1789c3cb8",
            "a617f5fcef6f459dab91e373f075a4b9",
            "74dec5c334f64063a4ef1fe463d6c7a2",
            "5342cb011c6f4af2a0da6a9a0522bb03",
            "a0cceae67d7b4d1fab662b615a452048",
            "6e69275b7ef243b4b7590715a335b513",
            "b23de42f6d1c4dcf84991cb4d190171f"
          ]
        }
      },
      "source": [
        "display(w_input, w_button, w_output)\n",
        "\n",
        "w_button.on_click(get_streams)"
      ],
      "execution_count": 10,
      "outputs": [
        {
          "output_type": "display_data",
          "data": {
            "application/vnd.jupyter.widget-view+json": {
              "model_id": "76483e9bae5744a2a8447228e6ddf548",
              "version_minor": 0,
              "version_major": 2
            },
            "text/plain": [
              "Text(value='', placeholder='URL de Youtube')"
            ]
          },
          "metadata": {
            "tags": []
          }
        },
        {
          "output_type": "display_data",
          "data": {
            "application/vnd.jupyter.widget-view+json": {
              "model_id": "74dec5c334f64063a4ef1fe463d6c7a2",
              "version_minor": 0,
              "version_major": 2
            },
            "text/plain": [
              "Button(description='Search', style=ButtonStyle())"
            ]
          },
          "metadata": {
            "tags": []
          }
        },
        {
          "output_type": "display_data",
          "data": {
            "application/vnd.jupyter.widget-view+json": {
              "model_id": "6e69275b7ef243b4b7590715a335b513",
              "version_minor": 0,
              "version_major": 2
            },
            "text/plain": [
              "Output()"
            ]
          },
          "metadata": {
            "tags": []
          }
        }
      ]
    }
  ]
}