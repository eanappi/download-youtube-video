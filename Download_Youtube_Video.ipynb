{
  "nbformat": 4,
  "nbformat_minor": 0,
  "metadata": {
    "colab": {
      "name": "Download Youtube Video.ipynb",
      "provenance": [],
      "collapsed_sections": [],
      "authorship_tag": "ABX9TyPDdRAsFQ5jG4ao1dM85Sv5",
      "include_colab_link": true
    },
    "kernelspec": {
      "name": "python3",
      "display_name": "Python 3"
    }
  },
  "cells": [
    {
      "cell_type": "markdown",
      "metadata": {
        "id": "view-in-github",
        "colab_type": "text"
      },
      "source": [
        "<a href=\"https://colab.research.google.com/github/eanappi/download-youtube-video/blob/main/Download_Youtube_Video.ipynb\" target=\"_parent\"><img src=\"https://colab.research.google.com/assets/colab-badge.svg\" alt=\"Open In Colab\"/></a>"
      ]
    },
    {
      "cell_type": "markdown",
      "metadata": {
        "id": "QicAq0nMvTvj"
      },
      "source": [
        "## Instalación de package"
      ]
    },
    {
      "cell_type": "code",
      "metadata": {
        "id": "uHJb-QuVAU9D"
      },
      "source": [
        "!pip install pytube3 --upgrade"
      ],
      "execution_count": null,
      "outputs": []
    },
    {
      "cell_type": "markdown",
      "metadata": {
        "id": "PnjFL3MoAuyf"
      },
      "source": [
        "## Importación de la librería"
      ]
    },
    {
      "cell_type": "code",
      "metadata": {
        "id": "CvI1-dz3a2wO"
      },
      "source": [
        "import ipywidgets as widgets\n",
        "from IPython.display import display\n",
        "from pytube import YouTube"
      ],
      "execution_count": 7,
      "outputs": []
    },
    {
      "cell_type": "markdown",
      "metadata": {
        "id": "TLlkEMrCzyII"
      },
      "source": [
        "## Función que obtiene los valores de los videos"
      ]
    },
    {
      "cell_type": "code",
      "metadata": {
        "id": "hCy0qWTK1enz"
      },
      "source": [
        "def download_video(downloadvideo_widgetobject):\n",
        "    video = yt.streams.get_by_itag(str(w_resolutionlist.value))\n",
        "    video.download()\n",
        "\n",
        "def show_resolutionlist(res_list):\n",
        "    global w_resolutionlist\n",
        "\n",
        "    w_resolutionlist = widgets.Dropdown(\n",
        "        options=res_list,\n",
        "        description='Resolution - '\n",
        "        )\n",
        "    w_downloadbutton = widgets.Button(description='Download')\n",
        "    \n",
        "    display(w_resolutionlist, w_downloadbutton)\n",
        "\n",
        "    w_downloadbutton.on_click(download_video)\n",
        "\n",
        "def get_streams(streams_widgetobject):\n",
        "    with w_output:\n",
        "        global yt\n",
        "\n",
        "        yt = YouTube(w_input.value)\n",
        "        streams = yt.streams.filter(\n",
        "            progressive=True,\n",
        "            subtype='mp4'\n",
        "            ).order_by('resolution').desc()\n",
        "        streams_util = []\n",
        "\n",
        "        for stream in streams:\n",
        "            stream_partial = (str(stream.resolution), stream.itag)\n",
        "            streams_util.append(stream_partial)\n",
        "        \n",
        "        show_resolutionlist(streams_util)\n"
      ],
      "execution_count": 8,
      "outputs": []
    },
    {
      "cell_type": "markdown",
      "metadata": {
        "id": "cRvpaARGt-tU"
      },
      "source": [
        "## Declaración de Widgets"
      ]
    },
    {
      "cell_type": "code",
      "metadata": {
        "id": "XkUGh9UeuKvU"
      },
      "source": [
        "w_button = widgets.Button(description='Search')\n",
        "w_input = widgets.Text(placeholder='URL de Youtube')\n",
        "w_output = widgets.Output()"
      ],
      "execution_count": 9,
      "outputs": []
    },
    {
      "cell_type": "markdown",
      "metadata": {
        "id": "zmCC8LnH2atZ"
      },
      "source": [
        "## Acciones y Mostrar Widgets"
      ]
    },
    {
      "cell_type": "code",
      "metadata": {
        "id": "g5j0nUP526yZ"
      },
      "source": [
        "display(w_input, w_button, w_output)\n",
        "\n",
        "w_button.on_click(get_streams)"
      ],
      "execution_count": null,
      "outputs": []
    }
  ]
}